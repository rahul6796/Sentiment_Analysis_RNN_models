{
  "nbformat": 4,
  "nbformat_minor": 0,
  "metadata": {
    "kernelspec": {
      "display_name": "Python 3",
      "language": "python",
      "name": "python3"
    },
    "language_info": {
      "codemirror_mode": {
        "name": "ipython",
        "version": 3
      },
      "file_extension": ".py",
      "mimetype": "text/x-python",
      "name": "python",
      "nbconvert_exporter": "python",
      "pygments_lexer": "ipython3",
      "version": "3.7.6"
    },
    "colab": {
      "name": "Sentiment_Analysis03.ipynb",
      "provenance": []
    }
  },
  "cells": [
    {
      "cell_type": "code",
      "metadata": {
        "id": "bTn_fQrgp4eS"
      },
      "source": [
        "import numpy as np\n",
        "import pandas as pd\n",
        "\n",
        "import torch\n",
        "import torch.nn as nn\n",
        "from torch.utils.data import TensorDataset, DataLoader\n",
        "\n",
        "from nltk.corpus import stopwords\n",
        "from collections import Counter\n",
        "\n",
        "import string\n",
        "import re\n",
        "\n",
        "import seaborn as sns\n",
        "from tqdm import tqdm\n",
        "import matplotlib.pyplot as plt\n",
        "\n",
        "from sklearn.model_selection import train_test_split"
      ],
      "execution_count": null,
      "outputs": []
    },
    {
      "cell_type": "code",
      "metadata": {
        "colab": {
          "base_uri": "https://localhost:8080/"
        },
        "id": "zGjAj08xp4eU",
        "outputId": "1925d61a-e39f-4bc7-d3ea-fef439caf37b"
      },
      "source": [
        "is_cuda = torch.cuda.is_available()\n",
        "\n",
        "# If we have a GPU available, we'll set our device to GPU. We'll use this device variable later in our code.\n",
        "if is_cuda:\n",
        "    device = torch.device(\"cuda\")\n",
        "    print(\"GPU is available\")\n",
        "else:\n",
        "    device = torch.device(\"cpu\")\n",
        "    print(\"GPU not available, CPU used\")\n"
      ],
      "execution_count": null,
      "outputs": [
        {
          "output_type": "stream",
          "name": "stdout",
          "text": [
            "GPU is available\n"
          ]
        }
      ]
    },
    {
      "cell_type": "code",
      "metadata": {
        "id": "7TOrOCDhp4eW"
      },
      "source": [
        "df = pd.read_csv('/content/IMDB Dataset.csv')"
      ],
      "execution_count": null,
      "outputs": []
    },
    {
      "cell_type": "code",
      "metadata": {
        "colab": {
          "base_uri": "https://localhost:8080/",
          "height": 204
        },
        "id": "y6Z6Sw8fp4eW",
        "outputId": "4e66a9d0-0b71-477a-f9b7-44b736b31b5d"
      },
      "source": [
        "df.head()"
      ],
      "execution_count": null,
      "outputs": [
        {
          "output_type": "execute_result",
          "data": {
            "text/html": [
              "<div>\n",
              "<style scoped>\n",
              "    .dataframe tbody tr th:only-of-type {\n",
              "        vertical-align: middle;\n",
              "    }\n",
              "\n",
              "    .dataframe tbody tr th {\n",
              "        vertical-align: top;\n",
              "    }\n",
              "\n",
              "    .dataframe thead th {\n",
              "        text-align: right;\n",
              "    }\n",
              "</style>\n",
              "<table border=\"1\" class=\"dataframe\">\n",
              "  <thead>\n",
              "    <tr style=\"text-align: right;\">\n",
              "      <th></th>\n",
              "      <th>review</th>\n",
              "      <th>sentiment</th>\n",
              "    </tr>\n",
              "  </thead>\n",
              "  <tbody>\n",
              "    <tr>\n",
              "      <th>0</th>\n",
              "      <td>One of the other reviewers has mentioned that ...</td>\n",
              "      <td>positive</td>\n",
              "    </tr>\n",
              "    <tr>\n",
              "      <th>1</th>\n",
              "      <td>A wonderful little production. &lt;br /&gt;&lt;br /&gt;The...</td>\n",
              "      <td>positive</td>\n",
              "    </tr>\n",
              "    <tr>\n",
              "      <th>2</th>\n",
              "      <td>I thought this was a wonderful way to spend ti...</td>\n",
              "      <td>positive</td>\n",
              "    </tr>\n",
              "    <tr>\n",
              "      <th>3</th>\n",
              "      <td>Basically there's a family where a little boy ...</td>\n",
              "      <td>negative</td>\n",
              "    </tr>\n",
              "    <tr>\n",
              "      <th>4</th>\n",
              "      <td>Petter Mattei's \"Love in the Time of Money\" is...</td>\n",
              "      <td>positive</td>\n",
              "    </tr>\n",
              "  </tbody>\n",
              "</table>\n",
              "</div>"
            ],
            "text/plain": [
              "                                              review sentiment\n",
              "0  One of the other reviewers has mentioned that ...  positive\n",
              "1  A wonderful little production. <br /><br />The...  positive\n",
              "2  I thought this was a wonderful way to spend ti...  positive\n",
              "3  Basically there's a family where a little boy ...  negative\n",
              "4  Petter Mattei's \"Love in the Time of Money\" is...  positive"
            ]
          },
          "metadata": {},
          "execution_count": 4
        }
      ]
    },
    {
      "cell_type": "code",
      "metadata": {
        "id": "ux4a093kp4eX"
      },
      "source": [
        "X = df['review'].values\n",
        "y = df['sentiment'].values"
      ],
      "execution_count": null,
      "outputs": []
    },
    {
      "cell_type": "code",
      "metadata": {
        "colab": {
          "base_uri": "https://localhost:8080/"
        },
        "id": "D_5KU-Fbp4eX",
        "outputId": "3e4986b8-00fd-44ca-ce87-e65513bd6b51"
      },
      "source": [
        "X.shape, y.shape"
      ],
      "execution_count": null,
      "outputs": [
        {
          "output_type": "execute_result",
          "data": {
            "text/plain": [
              "((50000,), (50000,))"
            ]
          },
          "metadata": {},
          "execution_count": 6
        }
      ]
    },
    {
      "cell_type": "code",
      "metadata": {
        "id": "E28E60nnp4eY"
      },
      "source": [
        "X_train,X_test,y_train,y_test = train_test_split(X,y,stratify = y)"
      ],
      "execution_count": null,
      "outputs": []
    },
    {
      "cell_type": "code",
      "metadata": {
        "colab": {
          "base_uri": "https://localhost:8080/"
        },
        "id": "yr4g2R_9p4eZ",
        "outputId": "57c07eb4-bd32-4e4e-c468-b7aee7b40f67"
      },
      "source": [
        "X_train.shape,X_test.shape"
      ],
      "execution_count": null,
      "outputs": [
        {
          "output_type": "execute_result",
          "data": {
            "text/plain": [
              "((37500,), (12500,))"
            ]
          },
          "metadata": {},
          "execution_count": 8
        }
      ]
    },
    {
      "cell_type": "code",
      "metadata": {
        "colab": {
          "base_uri": "https://localhost:8080/"
        },
        "id": "YlIK3AwGp4ea",
        "outputId": "27b9f4ac-64d6-47d3-dc20-65aca45f1cfa"
      },
      "source": [
        "type(X_train),type(X_test)"
      ],
      "execution_count": null,
      "outputs": [
        {
          "output_type": "execute_result",
          "data": {
            "text/plain": [
              "(numpy.ndarray, numpy.ndarray)"
            ]
          },
          "metadata": {},
          "execution_count": 9
        }
      ]
    },
    {
      "cell_type": "markdown",
      "metadata": {
        "id": "uYjR7Vh0p4ea"
      },
      "source": [
        "# Analysis the sentiment:"
      ]
    },
    {
      "cell_type": "code",
      "metadata": {
        "colab": {
          "base_uri": "https://localhost:8080/",
          "height": 265
        },
        "id": "AXLMVzBcp4ec",
        "outputId": "4df8af80-5590-4fe8-b426-d6ca4f003dae"
      },
      "source": [
        "dd = pd.Series(y_train).value_counts()\n",
        "sns.barplot(x = np.array(['negative','positive']),\n",
        "           y = dd.values)\n",
        "plt.show()"
      ],
      "execution_count": null,
      "outputs": [
        {
          "output_type": "display_data",
          "data": {
            "image/png": "[encoded data removed]",
            "text/plain": [
              "<Figure size 432x288 with 1 Axes>"
            ]
          },
          "metadata": {
            "needs_background": "light"
          }
        }
      ]
    },
    {
      "cell_type": "markdown",
      "metadata": {
        "id": "Is8byV3op4ed"
      },
      "source": [
        "# Data Prepocessing:"
      ]
    },
    {
      "cell_type": "code",
      "metadata": {
        "id": "leQBWMp5p4ee"
      },
      "source": [
        "def preprocessing_text(text):\n",
        "    # extracting only words not other than words:\n",
        "    text = re.sub(r'[^\\w\\s]', '', text)\n",
        "    # and removing all whitespace from the every sentencs:\n",
        "    text = re.sub(r'\\s+', '', text)\n",
        "    # removing the digit from the every sentences:\n",
        "    text = re.sub(r'\\d+', '', text)\n",
        "    \n",
        "    # return the whole text:\n",
        "    return text\n",
        "\n",
        "\n",
        "def tokenized(X_train, y_train, X_val, y_val):\n",
        "    \n",
        "    word_list = []\n",
        "    \n",
        "    stop_words = set(stopwords.words('english'))\n",
        "    for sent in X_train:\n",
        "        for word in sent.lower().split():\n",
        "            word = preprocessing_text(word)\n",
        "            \n",
        "            if word not in stop_words and word != '':\n",
        "                word_list.append(word)\n",
        "    \n",
        "    corpus = Counter(word_list)\n",
        "    # sorting on the basis of most common words:\n",
        "    corpus_ = sorted(corpus, key = corpus.get, reverse = True)[:1000]\n",
        "    \n",
        "    # creating a dict:\n",
        "    onehot_dict = {w:i+1 for i, w in enumerate(corpus_)}\n",
        "    \n",
        "    \n",
        "    # tokenize\n",
        "    final_list_train, final_list_test = [], []\n",
        "    \n",
        "    for sent in X_train:\n",
        "        final_list_train.append([onehot_dict[preprocessing_text(word)] for word in sent.lower().split()\n",
        "                                if preprocessing_text(word) in onehot_dict.keys()])\n",
        "        \n",
        "    for sent in X_val:\n",
        "        final_list_test.append([onehot_dict[preprocessing_text(word)] for word in sent.lower().split()\n",
        "                               if preprocessing_text(word) in onehot_dict.keys()])\n",
        "        \n",
        "    encoded_train = [1 if label == 'positive' else 0 for label in y_train]\n",
        "    encoded_test = [1 if label == 'positive' else 0 for label in y_val]\n",
        "    \n",
        "    return np.array(final_list_train), np.array(encoded_train), np.array(final_list_test), np.array(encoded_test), onehot_dict"
      ],
      "execution_count": null,
      "outputs": []
    },
    {
      "cell_type": "code",
      "metadata": {
        "colab": {
          "base_uri": "https://localhost:8080/"
        },
        "id": "CWqgqFP2p4eg",
        "outputId": "dc0c2021-7080-423c-8fc7-cd3b1f6a4be6"
      },
      "source": [
        "X_train, y_train, X_test, y_test, vocab = tokenized(X_train,\n",
        "                                                   y_train,\n",
        "                                                   X_test,\n",
        "                                                   y_test)"
      ],
      "execution_count": null,
      "outputs": [
        {
          "output_type": "stream",
          "name": "stderr",
          "text": [
            "/usr/local/lib/python3.7/dist-packages/ipykernel_launcher.py:47: VisibleDeprecationWarning: Creating an ndarray from ragged nested sequences (which is a list-or-tuple of lists-or-tuples-or ndarrays with different lengths or shapes) is deprecated. If you meant to do this, you must specify 'dtype=object' when creating the ndarray\n"
          ]
        }
      ]
    },
    {
      "cell_type": "code",
      "metadata": {
        "colab": {
          "base_uri": "https://localhost:8080/"
        },
        "id": "0GDMzg1Qp4eg",
        "outputId": "f36bbd3b-0db9-442b-d97b-c37bc41a88ef"
      },
      "source": [
        "X_train.shape,y_train.shape"
      ],
      "execution_count": null,
      "outputs": [
        {
          "output_type": "execute_result",
          "data": {
            "text/plain": [
              "((37500,), (37500,))"
            ]
          },
          "metadata": {},
          "execution_count": 13
        }
      ]
    },
    {
      "cell_type": "code",
      "metadata": {
        "colab": {
          "base_uri": "https://localhost:8080/"
        },
        "id": "izDH9E4Tp4eh",
        "outputId": "81a98d48-e09f-4e4c-80d7-3bfbb93601ff"
      },
      "source": [
        "X_test.shape, y_test.shape"
      ],
      "execution_count": null,
      "outputs": [
        {
          "output_type": "execute_result",
          "data": {
            "text/plain": [
              "((12500,), (12500,))"
            ]
          },
          "metadata": {},
          "execution_count": 14
        }
      ]
    },
    {
      "cell_type": "code",
      "metadata": {
        "colab": {
          "base_uri": "https://localhost:8080/"
        },
        "id": "ysjCz4qPp4ei",
        "outputId": "ae05965e-9457-43b2-dd9e-eeed852f4919"
      },
      "source": [
        "print(f' length of vocabulary is{len(vocab)}')"
      ],
      "execution_count": null,
      "outputs": [
        {
          "output_type": "stream",
          "name": "stdout",
          "text": [
            " length of vocabulary is1000\n"
          ]
        }
      ]
    },
    {
      "cell_type": "markdown",
      "metadata": {
        "id": "aba8sGQwp4ej"
      },
      "source": [
        "# Analysis of Rewiew Length:"
      ]
    },
    {
      "cell_type": "code",
      "metadata": {
        "colab": {
          "base_uri": "https://localhost:8080/",
          "height": 265
        },
        "id": "74JvBbItp4ej",
        "outputId": "a457beab-5106-4e20-d5c4-6872567edaf7"
      },
      "source": [
        "rev_len = [len(i) for i in X_train]\n",
        "pd.Series(rev_len).hist()\n",
        "plt.show()"
      ],
      "execution_count": null,
      "outputs": [
        {
          "output_type": "display_data",
          "data": {
            "image/png": "[encoded data removed]",
            "text/plain": [
              "<Figure size 432x288 with 1 Axes>"
            ]
          },
          "metadata": {
            "needs_background": "light"
          }
        }
      ]
    },
    {
      "cell_type": "code",
      "metadata": {
        "colab": {
          "base_uri": "https://localhost:8080/"
        },
        "id": "SMGiL3plp4ek",
        "outputId": "931eb97d-2fa4-459c-9bc3-1ebb46b5194d"
      },
      "source": [
        "pd.Series(rev_len).describe()"
      ],
      "execution_count": null,
      "outputs": [
        {
          "output_type": "execute_result",
          "data": {
            "text/plain": [
              "count    37500.000000\n",
              "mean        69.290773\n",
              "std         48.087338\n",
              "min          0.000000\n",
              "25%         39.000000\n",
              "50%         54.000000\n",
              "75%         84.000000\n",
              "max        653.000000\n",
              "dtype: float64"
            ]
          },
          "metadata": {},
          "execution_count": 17
        }
      ]
    },
    {
      "cell_type": "markdown",
      "metadata": {
        "id": "y40x9tgCp4el"
      },
      "source": [
        "# Padding:"
      ]
    },
    {
      "cell_type": "code",
      "metadata": {
        "id": "lh6eqWdvp4el"
      },
      "source": [
        "def padding(sentences, seq_len):\n",
        "    \n",
        "    features = np.zeros((len(sentences), seq_len), dtype = int)\n",
        "    \n",
        "    for i, review in enumerate(sentences):\n",
        "        if len(review) != 0:\n",
        "            features[i, -len(review):] = np.array(review)[:seq_len]\n",
        "            \n",
        "    return features"
      ],
      "execution_count": null,
      "outputs": []
    },
    {
      "cell_type": "code",
      "metadata": {
        "id": "sJeq3z3Zp4em"
      },
      "source": [
        "X_train_pad = padding(X_train, 500)\n",
        "X_test_pad = padding(X_test, 500)"
      ],
      "execution_count": null,
      "outputs": []
    },
    {
      "cell_type": "code",
      "metadata": {
        "colab": {
          "base_uri": "https://localhost:8080/"
        },
        "id": "BdqSncLUp4en",
        "outputId": "ec7c3479-c008-4381-cb5b-ebdbf7ac551e"
      },
      "source": [
        "X_train_pad.shape,y_train.shape"
      ],
      "execution_count": null,
      "outputs": [
        {
          "output_type": "execute_result",
          "data": {
            "text/plain": [
              "((37500, 500), (37500,))"
            ]
          },
          "metadata": {},
          "execution_count": 20
        }
      ]
    },
    {
      "cell_type": "code",
      "metadata": {
        "colab": {
          "base_uri": "https://localhost:8080/"
        },
        "id": "RG4qgWNgp4en",
        "outputId": "b1c1711c-ba80-4cb4-8c78-3439efc70f9c"
      },
      "source": [
        "X_test_pad.shape,y_test.shape"
      ],
      "execution_count": null,
      "outputs": [
        {
          "output_type": "execute_result",
          "data": {
            "text/plain": [
              "((12500, 500), (12500,))"
            ]
          },
          "metadata": {},
          "execution_count": 21
        }
      ]
    },
    {
      "cell_type": "markdown",
      "metadata": {
        "id": "bZYXFKTVp4eo"
      },
      "source": [
        "# Batching and Loading as tensor:"
      ]
    },
    {
      "cell_type": "code",
      "metadata": {
        "id": "kq8tQyTfp4eo"
      },
      "source": [
        "# create tensor datasets:\n",
        "# for training data:\n",
        "train_data = TensorDataset(torch.from_numpy(X_train_pad),torch.from_numpy(y_train))\n",
        "\n",
        "# for validate data:\n",
        "valid_data = TensorDataset(torch.from_numpy(X_test_pad), torch.from_numpy(y_test))\n",
        "\n",
        "# dataloaders:\n",
        "batch_size = 50\n",
        "\n",
        "# make sure to shuffle your data:\n",
        "train_loader = DataLoader(train_data, shuffle = True, batch_size = batch_size)\n",
        "\n",
        "valid_loader = DataLoader(valid_data, shuffle = True, batch_size = batch_size)\n"
      ],
      "execution_count": null,
      "outputs": []
    },
    {
      "cell_type": "code",
      "metadata": {
        "id": "J_NZCVzap4eo"
      },
      "source": [
        "# obtain one batch of training data:\n",
        "dataiter = iter(train_loader)\n",
        "# create a sample of the data from the train_loader:\n",
        "sample_x, sample_y = dataiter.next()"
      ],
      "execution_count": null,
      "outputs": []
    },
    {
      "cell_type": "code",
      "metadata": {
        "colab": {
          "base_uri": "https://localhost:8080/"
        },
        "id": "1TzmJoQqp4ep",
        "outputId": "4181f227-0f85-423d-eb18-42288cd576b4"
      },
      "source": [
        "sample_x.size()"
      ],
      "execution_count": null,
      "outputs": [
        {
          "output_type": "execute_result",
          "data": {
            "text/plain": [
              "torch.Size([50, 500])"
            ]
          },
          "metadata": {},
          "execution_count": 24
        }
      ]
    },
    {
      "cell_type": "code",
      "metadata": {
        "colab": {
          "base_uri": "https://localhost:8080/"
        },
        "id": "iCH8PKzEp4eq",
        "outputId": "64e03337-78c3-49aa-b310-709f434c26fb"
      },
      "source": [
        "sample_y.size()"
      ],
      "execution_count": null,
      "outputs": [
        {
          "output_type": "execute_result",
          "data": {
            "text/plain": [
              "torch.Size([50])"
            ]
          },
          "metadata": {},
          "execution_count": 25
        }
      ]
    },
    {
      "cell_type": "markdown",
      "metadata": {
        "id": "BrP5jjckp4er"
      },
      "source": [
        "# Model: "
      ]
    },
    {
      "cell_type": "code",
      "metadata": {
        "id": "FtV6OrDKp4es"
      },
      "source": [
        "class SentimentLSTM(nn.Module):\n",
        "    \"\"\"\n",
        "        This is RNN model for sentiment analysis:\n",
        "    \"\"\"\n",
        "    def __init__(self, no_layers, vocab_size, hidden_dim, embedding_dim, drop_prob = 0.5):\n",
        "        \n",
        "        \"\"\"\n",
        "            Parameters:\n",
        "                \n",
        "                output_dim : this is the output size of your LSTM model.\n",
        "                no_layers : how much layers are used for the LSTM.\n",
        "                vocab_size : what is your vocabulary size which you are perfroming the sentiment analysis.\n",
        "                hidden_layers : no of hidden layers is the LSTM model.\n",
        "                embedding_dim : how much dimension you are finding the correlation with given text.\n",
        "        \"\"\"\n",
        "        \n",
        "        super(SentimentLSTM, self).__init__()\n",
        "        \n",
        "        self.output_dim = output_dim\n",
        "        self.hidden_dim = hidden_dim\n",
        "        self.no_layers = no_layers\n",
        "        self.vocab_size = vocab_size\n",
        "        \n",
        "        # Embedding:\n",
        "        self.embedding = nn.Embedding(vocab_size, embedding_dim)\n",
        "        \n",
        "        # LSTM layers:\n",
        "        self.lstm = nn.LSTM(embedding_dim, hidden_dim, no_layers, batch_first = True)\n",
        "        \n",
        "        # dorpout:\n",
        "        self.dropout = nn.Dropout(0.3)\n",
        "        \n",
        "        # linear\n",
        "        self.fc = nn.Linear(hidden_dim, output_dim)\n",
        "        \n",
        "        # sigmoid layer:\n",
        "        self.sigmoid = nn.Sigmoid()\n",
        "        \n",
        "        \n",
        "    \"\"\"\n",
        "    forward pass of our LSTM model:\n",
        "    \"\"\"\n",
        "    \n",
        "    def forward(self, x, hidden):\n",
        "        \"\"\"\n",
        "        parameters : \n",
        "          \n",
        "          x = input_text which we are providing our LSTM model.\n",
        "          hidden = no of hidden layers present.\n",
        "        \"\"\"\n",
        "        \n",
        "        # batch_size:\n",
        "        batch_size = x.size(0)\n",
        "        \n",
        "        # embedding:\n",
        "        embeds = self.embedding(x)\n",
        "        \n",
        "        # lstm:\n",
        "        lstm_out, hidden = self.lstm(embeds, hidden)\n",
        "        \n",
        "        lstm_out = lstm_out.contiguous().view(-1, self.hidden_dim)\n",
        "        \n",
        "        # dropout:\n",
        "        out = self.dropout(lstm_out)\n",
        "        \n",
        "        # fully connected layer:\n",
        "        out = self.fc(out)\n",
        "        \n",
        "        # sigmoid fun:\n",
        "        sig_out = self.sigmoid(out)\n",
        "        \n",
        "        # reshape according to batch size:\n",
        "        sig_out = sig_out.view(batch_size, -1)\n",
        "        sig_out = sig_out[:, -1]\n",
        "        \n",
        "        # return sig_out and hidden:\n",
        "        return sig_out, hidden\n",
        "    \n",
        "    \n",
        "    def init_hidden(self, batch_size):\n",
        "        \"\"\"\n",
        "          initializes hidden state:\n",
        "        \"\"\"\n",
        "        h0 = torch.zeros((self.no_layers, batch_size, self.hidden_dim)).to(device)\n",
        "        c0 = torch.zeros((self.no_layers, batch_size, self.hidden_dim)).to(device)\n",
        "        \n",
        "        hidden = (h0, c0)\n",
        "        return hidden"
      ],
      "execution_count": null,
      "outputs": []
    },
    {
      "cell_type": "markdown",
      "metadata": {
        "id": "0cFyzm1ep4eu"
      },
      "source": [
        "# Initalization of parameters:"
      ]
    },
    {
      "cell_type": "code",
      "metadata": {
        "colab": {
          "base_uri": "https://localhost:8080/"
        },
        "id": "xCtW_ukvp4ev",
        "outputId": "295b6c61-e64b-4f6f-c650-5e6e5a4cf824"
      },
      "source": [
        "no_layers = 2\n",
        "vocab_size = len(vocab) + 1 # 1 for padding:\n",
        "embedding_dim = 64\n",
        "output_dim = 1\n",
        "hidden_dim = 256\n",
        "\n",
        "\n",
        "model = SentimentLSTM(no_layers, vocab_size, hidden_dim, embedding_dim, drop_prob = 0.5)\n",
        "model.to(device)"
      ],
      "execution_count": null,
      "outputs": [
        {
          "output_type": "execute_result",
          "data": {
            "text/plain": [
              "SentimentLSTM(\n",
              "  (embedding): Embedding(1001, 64)\n",
              "  (lstm): LSTM(64, 256, num_layers=2, batch_first=True)\n",
              "  (dropout): Dropout(p=0.3, inplace=False)\n",
              "  (fc): Linear(in_features=256, out_features=1, bias=True)\n",
              "  (sigmoid): Sigmoid()\n",
              ")"
            ]
          },
          "metadata": {},
          "execution_count": 27
        }
      ]
    },
    {
      "cell_type": "markdown",
      "metadata": {
        "id": "7eA4MNN0p4ev"
      },
      "source": [
        "# Training:"
      ]
    },
    {
      "cell_type": "code",
      "metadata": {
        "id": "vGmYd-Dbp4ew"
      },
      "source": [
        "# loss and optimization function:\n",
        "\n",
        "lr = 0.001\n",
        "criterion = nn.BCELoss()\n",
        "optimizer = torch.optim.Adam(model.parameters(), lr = lr)\n",
        "\n",
        "\n",
        "# function for predict the accuracy:\n",
        "def acc(pred, label):\n",
        "    pred = torch.round(pred.squeeze())\n",
        "    return torch.sum(pred == label.squeeze()).item()"
      ],
      "execution_count": null,
      "outputs": []
    },
    {
      "cell_type": "code",
      "metadata": {
        "colab": {
          "base_uri": "https://localhost:8080/"
        },
        "id": "ZU0DLDgHp4ew",
        "outputId": "4617cd26-3a9e-41af-9ac3-4f3d8472ceda"
      },
      "source": [
        "clip = 5\n",
        "epochs = 5\n",
        "valid_loss_min = np.Inf\n",
        "\n",
        "# train for some number of epochs:\n",
        "\n",
        "epoch_tr_loss, epoch_vl_loss = [], []\n",
        "epoch_tr_acc, epoch_vl_acc = [], []\n",
        "\n",
        "\n",
        "for epoch in range(epochs):\n",
        "    train_losses = []\n",
        "    train_acc = 0.0\n",
        "    model.train()\n",
        "    \n",
        "    # this steps for the training of Train_data:\n",
        "    # initalize hiddens state:\n",
        "    h = model.init_hidden(batch_size)\n",
        "    for inputs, labels in train_loader:\n",
        "        inputs, labels = inputs.to(device), labels.to(device)\n",
        "        \n",
        "        # Creating new variables for the hidden state, otherwise\n",
        "        # we did backprop throught the entire training history\n",
        "        h = tuple([each.data for each in h])\n",
        "        model.zero_grad()\n",
        "        output, h = model(inputs, h)\n",
        "        \n",
        "        # Calcualte the loss and perfrom backprop:\n",
        "        loss = criterion(output.squeeze(), labels.float())\n",
        "        loss.backward()\n",
        "        train_losses.append(loss.item())\n",
        "        \n",
        "        # Calculate Accuracy:\n",
        "        accuracy = acc(output, labels)\n",
        "        train_acc += accuracy\n",
        "        \n",
        "        # clip_grad_norm helping for preventing the exploding gradient problem in RNN and LSTM:\n",
        "        nn.utils.clip_grad_norm_(model.parameters(), clip)\n",
        "        optimizer.step()\n",
        "        \n",
        "    # this steps for training the Val_data:    \n",
        "    val_h = model.init_hidden(batch_size)\n",
        "    val_losses = []\n",
        "    val_acc = 0.0\n",
        "    model.eval()\n",
        "    \n",
        "    for inputs, labels in valid_loader:\n",
        "        inputs, labels = inputs.to(device), labels.to(device)\n",
        "       \n",
        "        val_h = tuple([each.data for each in val_h])\n",
        "        output, val_h = model(inputs, val_h)\n",
        "        val_loss = criterion(output.squeeze(), labels.float())\n",
        "        val_losses.append(val_loss.item())\n",
        "        accuracy = acc(output, labels)\n",
        "        val_acc += accuracy\n",
        "        \n",
        "    epoch_train_loss = np.mean(train_losses)\n",
        "    epoch_val_loss = np.mean(val_losses)\n",
        "    epoch_train_acc = train_acc / len(train_loader.dataset)\n",
        "    epoch_val_acc = val_acc / len(valid_loader.dataset)\n",
        "    epoch_tr_loss.append(epoch_train_loss)\n",
        "    epoch_vl_loss.append(epoch_val_loss)\n",
        "    epoch_tr_acc.append(epoch_train_acc)\n",
        "    epoch_vl_acc.append(epoch_val_acc)\n",
        "    print(f'Epoch : {epoch+1}')\n",
        "    print(f'train_loss : {epoch_train_loss} val_loss : {epoch_val_loss}')\n",
        "    print(f'train_accuracy : {epoch_train_acc*100} val_accuracy : {epoch_val_acc*100}')\n",
        "    \n",
        "    if epoch_val_loss <= valid_loss_min:\n",
        "        torch.save(model.state_dict(), '/content/State_dict.pt')\n",
        "        print('Validation loss decreased ({:.6f} --> {:.6f}).  Saving model ...'.format(valid_loss_min,epoch_val_loss))\n",
        "        valid_loss_min = epoch_val_loss\n",
        "        print(25*'==')"
      ],
      "execution_count": null,
      "outputs": [
        {
          "output_type": "stream",
          "name": "stdout",
          "text": [
            "Epoch : 1\n",
            "train_loss : 0.5073404076099396 val_loss : 0.4278122979402542\n",
            "train_accuracy : 75.58666666666667 val_accuracy : 81.328\n",
            "Validation loss decreased (inf --> 0.427812).  Saving model ...\n",
            "==================================================\n",
            "Epoch : 2\n",
            "train_loss : 0.3825977258682251 val_loss : 0.37727468621730803\n",
            "train_accuracy : 83.82666666666667 val_accuracy : 84.112\n",
            "Validation loss decreased (0.427812 --> 0.377275).  Saving model ...\n",
            "==================================================\n",
            "Epoch : 3\n",
            "train_loss : 0.3328415018220743 val_loss : 0.34067435312271116\n",
            "train_accuracy : 86.11999999999999 val_accuracy : 85.312\n",
            "Validation loss decreased (0.377275 --> 0.340674).  Saving model ...\n",
            "==================================================\n",
            "Epoch : 4\n",
            "train_loss : 0.3015322875479857 val_loss : 0.3323649041056633\n",
            "train_accuracy : 87.62133333333333 val_accuracy : 85.624\n",
            "Validation loss decreased (0.340674 --> 0.332365).  Saving model ...\n",
            "==================================================\n",
            "Epoch : 5\n",
            "train_loss : 0.26683218133946257 val_loss : 0.34179583078622816\n",
            "train_accuracy : 89.15466666666667 val_accuracy : 85.408\n"
          ]
        }
      ]
    },
    {
      "cell_type": "code",
      "metadata": {
        "id": "qL1gsGQA3cuw"
      },
      "source": [
        "# visulization"
      ],
      "execution_count": null,
      "outputs": []
    },
    {
      "cell_type": "code",
      "metadata": {
        "colab": {
          "base_uri": "https://localhost:8080/",
          "height": 219
        },
        "id": "OzG0032G3x9q",
        "outputId": "c2f80f89-53a4-4ffb-c65e-9dbcb308ea48"
      },
      "source": [
        "fig = plt.figure(figsize = (20, 6))\n",
        "plt.subplot(1, 2, 1)\n",
        "plt.plot(epoch_tr_acc, label = 'Train Acc')\n",
        "plt.plot(epoch_vl_acc, label = 'Validation Acc')\n",
        "plt.title(\"Accuracy\")\n",
        "plt.legend()\n",
        "plt.grid()\n",
        "\n",
        "\n",
        "plt.subplot(1, 2, 2)\n",
        "plt.plot(epoch_tr_loss, label = 'Train Loss')\n",
        "plt.plot(epoch_vl_loss, label = 'Validation Loss')\n",
        "plt.title(\"Loss\")\n",
        "plt.legend()\n",
        "plt.grid()\n",
        "plt.show()"
      ],
      "execution_count": null,
      "outputs": [
        {
          "output_type": "display_data",
          "data": {
            "image/png": "[encoded data removed]",
            "text/plain": [
              "<Figure size 1440x432 with 2 Axes>"
            ]
          },
          "metadata": {
            "needs_background": "light"
          }
        }
      ]
    },
    {
      "cell_type": "code",
      "metadata": {
        "id": "QwO_00gf31wI"
      },
      "source": [
        "# Predict text:"
      ],
      "execution_count": null,
      "outputs": []
    },
    {
      "cell_type": "code",
      "metadata": {
        "id": "VqjM9Dj9CupT"
      },
      "source": [
        "def predict_text(text):\n",
        "\n",
        "  word_seq = np.array([vocab[preprocessing_text(word)] for word in text.split() \n",
        "  if preprocessing_text(word) in vocab.keys()])\n",
        "\n",
        "  word_seq = np.expand_dims(word_seq, axis = 0)\n",
        "  pad = torch.from_numpy(padding(word_seq, 500))\n",
        "  inputs = pad.to(device)\n",
        "  batch_size = 1\n",
        "  h = model.init_hidden(batch_size)\n",
        "  h = tuple([each.data for each in h])\n",
        "  output, h = model(inputs, h)\n",
        "  return (output.item())"
      ],
      "execution_count": null,
      "outputs": []
    },
    {
      "cell_type": "code",
      "metadata": {
        "colab": {
          "base_uri": "https://localhost:8080/"
        },
        "id": "jsoLIrXHD8Q2",
        "outputId": "9d510ad8-4b25-4353-9a7f-a74f60254847"
      },
      "source": [
        "index = 30\n",
        "print(df['review'][index])\n",
        "print('='*70)\n",
        "print(f\"actual sentiment is : {df['sentiment'][index]}\")\n",
        "print('='*70)\n",
        "pro = predict_text(df['review'][index])\n",
        "status = \"positive\" if pro > 0.5 else \"negative\"\n",
        "pro = (1 - pro) if status == \"negative\" else pro\n",
        "print(f'Predicted sentiment is {status} with a probability of {pro}')"
      ],
      "execution_count": null,
      "outputs": [
        {
          "output_type": "stream",
          "name": "stdout",
          "text": [
            "Taut and organically gripping, Edward Dmytryk's Crossfire is a distinctive suspense thriller, an unlikely \"message\" movie using the look and devices of the noir cycle.<br /><br />Bivouacked in Washington, DC, a company of soldiers cope with their restlessness by hanging out in bars. Three of them end up at a stranger's apartment where Robert Ryan, drunk and belligerent, beats their host (Sam Levene) to death because he happens to be Jewish. Police detective Robert Young investigates with the help of Robert Mitchum, who's assigned to Ryan's outfit. Suspicion falls on the second of the three (George Cooper), who has vanished. Ryan slays the third buddy (Steve Brodie) to insure his silence before Young closes in.<br /><br />Abetted by a superior script by John Paxton, Dmytryk draws precise performances from his three starring Bobs. Ryan, naturally, does his prototypical Angry White Male (and to the hilt), while Mitchum underplays with his characteristic alert nonchalance (his role, however, is not central); Young may never have been better. Gloria Grahame gives her first fully-fledged rendition of the smart-mouthed, vulnerable tramp, and, as a sad sack who's leeched into her life, Paul Kelly haunts us in a small, peripheral role that he makes memorable.<br /><br />The politically engaged Dmytryk perhaps inevitably succumbs to sermonizing, but it's pretty much confined to Young's reminiscence of how his Irish grandfather died at the hands of bigots a century earlier (thus, incidentally, stretching chronology to the limit). At least there's no attempt to render an explanation, however glib, of why Ryan hates Jews (and hillbillies and...).<br /><br />Curiously, Crossfire survives even the major change wrought upon it -- the novel it's based on (Richard Brooks' The Brick Foxhole) dealt with a gay-bashing murder. But homosexuality in 1947 was still Beyond The Pale. News of the Holocaust had, however, begun to emerge from the ashes of Europe, so Hollywood felt emboldened to register its protest against anti-Semitism (the studios always quaked at the prospect of offending any potential ticket buyer).<br /><br />But while the change from homophobia to anti-Semitism works in general, the specifics don't fit so smoothly. The victim's chatting up a lonesome, drunk young soldier then inviting him back home looks odd, even though (or especially since) there's a girlfriend in tow. It raises the question whether this scenario was retained inadvertently or left in as a discreet tip-off to the original engine generating Ryan's murderous rage.\n",
            "======================================================================\n",
            "actual sentiment is : positive\n",
            "======================================================================\n",
            "Predicted sentiment is positive with a probability of 0.8732998967170715\n"
          ]
        }
      ]
    },
    {
      "cell_type": "code",
      "metadata": {
        "id": "htXoLSqBErQA"
      },
      "source": [
        ""
      ],
      "execution_count": null,
      "outputs": []
    }
  ]
}